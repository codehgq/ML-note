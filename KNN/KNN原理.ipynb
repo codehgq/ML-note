{
 "cells": [
  {
   "cell_type": "markdown",
   "metadata": {},
   "source": [
    "# KNN算法原理"
   ]
  },
  {
   "cell_type": "markdown",
   "metadata": {},
   "source": [
    "k近邻算法（KNN）：存在一个样本数据集，且样本集中的每个数据都存在标签（也即是样本集中每一个数据与所属分类有对应关系）；现在输入没有标签的新数据，新数据的每个特征和样本集中数据对应的特征进行比较，计算它们的距离，并排序，选择其中k个距离最小的的数据点所属的分类，对它们的类别统计，找出类别次数最多的类作为新数据的类别。\n",
    "\n"
   ]
  },
  {
   "cell_type": "markdown",
   "metadata": {},
   "source": [
    "优点：精度高，对异常值不敏感，无数据输入假定\n"
   ]
  },
  {
   "cell_type": "markdown",
   "metadata": {},
   "source": [
    "缺点：计算复杂度高，空间复杂度高"
   ]
  },
  {
   "cell_type": "markdown",
   "metadata": {},
   "source": [
    "适用数据范围：数值型和标称型"
   ]
  },
  {
   "cell_type": "markdown",
   "metadata": {},
   "source": [
    "机器学习实战中的实现方法有缺点:比如当特征空间的维数大且训练数据容量大时计算复杂度高，为此需要改进方法： 如kd树（**减少计算距离的次数**）"
   ]
  },
  {
   "cell_type": "code",
   "execution_count": null,
   "metadata": {},
   "outputs": [],
   "source": []
  }
 ],
 "metadata": {
  "kernelspec": {
   "display_name": "Python 3",
   "language": "python",
   "name": "python3"
  },
  "language_info": {
   "codemirror_mode": {
    "name": "ipython",
    "version": 3
   },
   "file_extension": ".py",
   "mimetype": "text/x-python",
   "name": "python",
   "nbconvert_exporter": "python",
   "pygments_lexer": "ipython3",
   "version": "3.6.5"
  }
 },
 "nbformat": 4,
 "nbformat_minor": 2
}
